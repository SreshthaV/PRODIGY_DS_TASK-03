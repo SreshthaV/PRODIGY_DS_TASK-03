{
 "cells": [
  {
   "cell_type": "code",
   "execution_count": null,
   "id": "9bc469da-5316-4144-93d0-ecc0df72db62",
   "metadata": {},
   "outputs": [],
   "source": [
    "import pandas as pd\n",
    "from sklearn.model_selection import train_test_split\n",
    "from sklearn.tree import DecisionTreeClassifier\n",
    "from sklearn.metrics import accuracy_score, classification_report\n",
    "from sklearn.preprocessing import LabelEncoder"
   ]
  },
  {
   "cell_type": "code",
   "execution_count": null,
   "id": "ba2c261e-9956-412a-866a-dfcbbd5df74b",
   "metadata": {},
   "outputs": [],
   "source": [
    "\n",
    "df = pd.read_csv('Customer-Churn-Records.csv')"
   ]
  },
  {
   "cell_type": "code",
   "execution_count": null,
   "id": "fa016fb4-428f-460e-b60b-45f308743f52",
   "metadata": {},
   "outputs": [],
   "source": [
    "\n",
    "df.head(10)"
   ]
  },
  {
   "cell_type": "code",
   "execution_count": null,
   "id": "a5c89513-50fa-4cd4-a6c3-03983e57a173",
   "metadata": {},
   "outputs": [],
   "source": [
    "data = df.drop(['RowNumber', 'Surname', 'Geography', 'Gender', 'Card Type'], axis=1)\n",
    "data.head()\n",
    "     "
   ]
  },
  {
   "cell_type": "code",
   "execution_count": null,
   "id": "cbbce46c-48ad-4d62-9224-3b1273fd0036",
   "metadata": {},
   "outputs": [],
   "source": [
    "data.duplicated().sum()"
   ]
  },
  {
   "cell_type": "code",
   "execution_count": null,
   "id": "087ae751-2f0d-4582-9af5-1dba1e8f4c95",
   "metadata": {},
   "outputs": [],
   "source": [
    "data.isnull().sum()"
   ]
  },
  {
   "cell_type": "code",
   "execution_count": null,
   "id": "776bc464-a2c5-4cdb-a939-d693bbc106b4",
   "metadata": {},
   "outputs": [],
   "source": [
    "data.shape"
   ]
  },
  {
   "cell_type": "code",
   "execution_count": null,
   "id": "63f35483-b55d-41a6-8372-10b922305742",
   "metadata": {},
   "outputs": [],
   "source": [
    "threshold_balance = data[\"Balance\"].mean()\n",
    "threshold_active = data[\"IsActiveMember\"].mean()\n",
    "\n",
    "\n",
    "\n",
    "\n",
    "def create_purchase_label(row):\n",
    "    if row['IsActiveMember'] > threshold_active and row['Balance'] > threshold_balance:\n",
    "        return 1\n",
    "    else:\n",
    "        return 0"
   ]
  },
  {
   "cell_type": "code",
   "execution_count": null,
   "id": "b08ac7d4-501c-41be-ba48-c836bdebbef3",
   "metadata": {},
   "outputs": [],
   "source": [
    "data['PurchaseLabel'] = data.apply(create_purchase_label, axis=1)"
   ]
  },
  {
   "cell_type": "code",
   "execution_count": null,
   "id": "05fee6b4-5bea-403f-8920-03f22c82b139",
   "metadata": {},
   "outputs": [],
   "source": [
    "print(data[['Balance', 'IsActiveMember', 'PurchaseLabel']])"
   ]
  },
  {
   "cell_type": "code",
   "execution_count": null,
   "id": "1d941135-e580-4dc8-a718-27643d9f851b",
   "metadata": {},
   "outputs": [],
   "source": [
    "(data['PurchaseLabel']).sum()"
   ]
  },
  {
   "cell_type": "code",
   "execution_count": null,
   "id": "0d362d52-5d9b-47cc-b2ed-324454b33766",
   "metadata": {},
   "outputs": [],
   "source": [
    "y = data['PurchaseLabel']\n",
    "x = data.drop(['PurchaseLabel'] , axis=1 )"
   ]
  },
  {
   "cell_type": "code",
   "execution_count": null,
   "id": "02da2a51-5211-4a57-abc9-45d3d1a295ec",
   "metadata": {},
   "outputs": [],
   "source": [
    "x.head()"
   ]
  },
  {
   "cell_type": "code",
   "execution_count": null,
   "id": "761fcde1-4fa5-40c9-979c-527b6e718df2",
   "metadata": {},
   "outputs": [],
   "source": [
    "\n",
    "y.head()"
   ]
  },
  {
   "cell_type": "code",
   "execution_count": null,
   "id": "ae44b698-4e75-49fb-b26b-e91fcd4c8ac0",
   "metadata": {},
   "outputs": [],
   "source": [
    "X_train, X_test, y_train, y_test = train_test_split(x, y, test_size=0.35, random_state=42)"
   ]
  },
  {
   "cell_type": "code",
   "execution_count": null,
   "id": "67a3bafe-942b-4113-88be-0de9e026cdc8",
   "metadata": {},
   "outputs": [],
   "source": [
    "clf = DecisionTreeClassifier(random_state=42)"
   ]
  },
  {
   "cell_type": "code",
   "execution_count": null,
   "id": "fa8bd84a-7be7-4ace-876d-35fe22ed4082",
   "metadata": {},
   "outputs": [],
   "source": [
    "\n",
    "clf.fit(X_train, y_train)"
   ]
  },
  {
   "cell_type": "code",
   "execution_count": null,
   "id": "b4e798ac-b92f-41ed-9ca6-15e51b4a45b4",
   "metadata": {},
   "outputs": [],
   "source": [
    "y_pred = clf.predict(X_test)"
   ]
  },
  {
   "cell_type": "code",
   "execution_count": null,
   "id": "c09b162f-27d3-4cfa-ada2-d5b9bab705bb",
   "metadata": {},
   "outputs": [],
   "source": [
    "accuracy = accuracy_score(y_test, y_pred)\n",
    "print(\"Accuracy:\", accuracy)"
   ]
  },
  {
   "cell_type": "code",
   "execution_count": null,
   "id": "d52159a8-b885-4572-a2e9-0bb2fc81d944",
   "metadata": {},
   "outputs": [],
   "source": [
    "print(\"Classification Report:\\n\", classification_report(y_test, y_pred))"
   ]
  },
  {
   "cell_type": "code",
   "execution_count": null,
   "id": "58d1cb0f-27a7-40fb-8668-7a0108d85079",
   "metadata": {},
   "outputs": [],
   "source": [
    "from sklearn.tree import export_graphviz\n",
    "import graphviz\n",
    "\n",
    "dot_data = export_graphviz(clf, out_file=None, feature_names=x.columns, class_names=[\"No\", \"Yes\"], filled=True, rounded=True)\n",
    "graph = graphviz.Source(dot_data)\n",
    "graph.render(\"decision_tree\")"
   ]
  }
 ],
 "metadata": {
  "kernelspec": {
   "display_name": "Python 3 (ipykernel)",
   "language": "python",
   "name": "python3"
  },
  "language_info": {
   "codemirror_mode": {
    "name": "ipython",
    "version": 3
   },
   "file_extension": ".py",
   "mimetype": "text/x-python",
   "name": "python",
   "nbconvert_exporter": "python",
   "pygments_lexer": "ipython3",
   "version": "3.12.4"
  }
 },
 "nbformat": 4,
 "nbformat_minor": 5
}
